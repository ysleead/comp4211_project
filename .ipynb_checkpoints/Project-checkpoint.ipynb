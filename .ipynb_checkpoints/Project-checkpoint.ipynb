{
 "cells": [
  {
   "cell_type": "code",
   "execution_count": 1,
   "metadata": {
    "colab": {},
    "colab_type": "code",
    "id": "RKIYned7UoRZ"
   },
   "outputs": [],
   "source": [
    "# comp4211 project"
   ]
  },
  {
   "cell_type": "code",
   "execution_count": 2,
   "metadata": {},
   "outputs": [],
   "source": [
    "import os\n",
    "import torch\n",
    "import PIL\n",
    "import pandas as pd\n",
    "import numpy as np\n",
    "from torch.utils.data import Dataset, DataLoader, random_split\n",
    "import matplotlib.pyplot as plt\n",
    "from torchvision import transforms, utils\n",
    "from torchsummary import summary\n",
    "import torch.nn as nn\n",
    "import torch.nn.functional as F"
   ]
  },
  {
   "cell_type": "code",
   "execution_count": 3,
   "metadata": {},
   "outputs": [],
   "source": [
    "transform = transforms.Compose(\n",
    "    [transforms.RandomHorizontalFlip(p=0.5),\n",
    "     transforms.ToTensor()])\n",
    "\n",
    "class imgDataset(Dataset):\n",
    "\n",
    "    def __init__(self, csv_file, root_dir, transform):\n",
    "        df = pd.read_csv(csv_file)\n",
    "        self.df = df\n",
    "        self.root_dir = root_dir\n",
    "        self.transform = transform\n",
    "    \n",
    "    def __len__(self):\n",
    "        return len(self.df)\n",
    "    \n",
    "    def __getitem__(self, idx):\n",
    "        if torch.is_tensor(idx):\n",
    "            idx = idx.tolist()\n",
    "        img_name = self.root_dir+'/'+str(self.df.iloc[idx,0])+'.jpg'\n",
    "        X = np.array(self.transform(PIL.Image.open(img_name).convert('RGB')))\n",
    "        y = self.df.iloc[idx,1:].to_numpy()\n",
    "        return X, y\n",
    "        "
   ]
  },
  {
   "cell_type": "code",
   "execution_count": 9,
   "metadata": {},
   "outputs": [],
   "source": [
    "#used local path to images\n",
    "train_data = imgDataset(csv_file = './train.csv', \n",
    "                       root_dir = \"C:/UST/COMP 4211/Project/images\", transform = transform)\n",
    "\n",
    "train_size = int(0.8 * len(train_data))\n",
    "valid_size = len(train_data) - train_size\n",
    "\n",
    "train, valid = random_split(train_data, [train_size, valid_size])"
   ]
  },
  {
   "cell_type": "code",
   "execution_count": 11,
   "metadata": {},
   "outputs": [],
   "source": [
    "batch_size = 64\n",
    "\n",
    "train_loader = DataLoader(train, batch_size=batch_size,\n",
    "                          shuffle=True, num_workers=0)\n",
    "\n",
    "valid_loader = DataLoader(valid, batch_size=batch_size,\n",
    "                          shuffle=True, num_workers=0)"
   ]
  }
 ],
 "metadata": {
  "colab": {
   "name": "project.ipynb",
   "provenance": []
  },
  "kernelspec": {
   "display_name": "Python 3",
   "language": "python",
   "name": "python3"
  },
  "language_info": {
   "codemirror_mode": {
    "name": "ipython",
    "version": 3
   },
   "file_extension": ".py",
   "mimetype": "text/x-python",
   "name": "python",
   "nbconvert_exporter": "python",
   "pygments_lexer": "ipython3",
   "version": "3.7.6"
  }
 },
 "nbformat": 4,
 "nbformat_minor": 1
}
