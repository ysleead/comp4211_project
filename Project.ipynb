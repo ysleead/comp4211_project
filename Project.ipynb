{
  "nbformat": 4,
  "nbformat_minor": 0,
  "metadata": {
    "colab": {
      "name": "project.ipynb",
      "provenance": []
    },
    "kernelspec": {
      "name": "python3",
      "display_name": "Python 3"
    }
  },
  "cells": [
    {
      "cell_type": "code",
      "metadata": {
        "id": "RKIYned7UoRZ",
        "colab_type": "code",
        "colab": {}
      },
      "source": [
        "# comp4211 project"
      ],
      "execution_count": 0,
      "outputs": []
    }
  ]
}